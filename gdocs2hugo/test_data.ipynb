{
 "cells": [
  {
   "cell_type": "code",
   "execution_count": 204,
   "metadata": {},
   "outputs": [],
   "source": [
    "import pandas as pd\n",
    "import datetime as dt\n",
    "import json\n",
    "import os\n",
    "from icalendar import Calendar, Event\n",
    "\n",
    "def stringtodate(date, time, timezone):\n",
    "    string = date+' '+time+timezone[4:10].replace(':','')\n",
    "    return dt.datetime.strptime(string,\"%d/%m/%Y %H:%M:%S%z\")\n",
    "\n",
    "def formatstring(date, time, timezone):\n",
    "    date = stringtodate(date,time,timezone)\n",
    "    return dt.datetime.strftime(date,\"%Y-%m-%dT%H:%M:%S\"+timezone[4:10])"
   ]
  },
  {
   "cell_type": "code",
   "execution_count": 189,
   "metadata": {},
   "outputs": [],
   "source": [
    "data = pd.read_csv('data.csv')"
   ]
  },
  {
   "cell_type": "code",
   "execution_count": 190,
   "metadata": {},
   "outputs": [],
   "source": [
    "base_string = \\\n",
    "'''+++\n",
    "  host= \"{host}\"\n",
    "  date = \"{start_time}\"\n",
    "  expiryDate = \"{end_time}\"\n",
    "  title = \"{title}\"\n",
    "  speaker = \"{speaker}\"\n",
    "  speaker_institution = \"{speaker_inst}\"\n",
    "  talk_site = \"{talk_site}\"\n",
    "  categories = [{categories}]\n",
    "\n",
    "  publishDate = \"2000-02-07T16:00:00-07:00\"\n",
    "+++\n",
    "\n",
    "{abstract}'''"
   ]
  },
  {
   "cell_type": "code",
   "execution_count": 214,
   "metadata": {},
   "outputs": [],
   "source": [
    "parser = {\n",
    "    'host': lambda x:x['Host'],\n",
    "    'title': lambda x: x['Title'],\n",
    "    'start_time' : lambda x : formatstring(x['Date'],x['Start_Time'], x['Timezone']),\n",
    "    'end_time' : lambda x : formatstring(x['Date'],x['End_Time'], x['Timezone']),\n",
    "    'start_time_as_date': lambda x: stringtodate(x['Date'],x['Start_Time'], x['Timezone']),\n",
    "    'end_time_as_date': lambda x: stringtodate(x['Date'],x['End_Time'], x['Timezone']),\n",
    "    'speaker' : lambda x: x['Speaker'],\n",
    "    'speaker_inst': lambda x: x['Speaker_inst'],\n",
    "    'timezone': lambda x: x['Timezone'][4:10].replace(':',''),\n",
    "    'talk_site': lambda x: x['Site'],\n",
    "    'categories': lambda x : '' if (not isinstance(x['arXiv'],str) or str(x['arXiv']).lstrip().rstrip() =='') \\\n",
    "                                else '\"'+'\",\"'.join(x['arXiv'].upper().replace(' ','').replace('MATH.','').split(','))+'\"',\n",
    "    'abstract': lambda x: x['Abstract'],\n",
    "    'name': lambda x: 'talk/'+(x['Host']+'_'+x['Speaker'].replace(' ','_')+'_'+x['Date']).replace('/','')+'.md'\n",
    "}"
   ]
  },
  {
   "cell_type": "code",
   "execution_count": 215,
   "metadata": {},
   "outputs": [
    {
     "ename": "SyntaxError",
     "evalue": "unexpected EOF while parsing (<ipython-input-215-f7e9523a4de8>, line 4)",
     "output_type": "error",
     "traceback": [
      "\u001b[0;36m  File \u001b[0;32m\"<ipython-input-215-f7e9523a4de8>\"\u001b[0;36m, line \u001b[0;32m4\u001b[0m\n\u001b[0;31m    #f.write(base_string.format(**mydict))\u001b[0m\n\u001b[0m                                          ^\u001b[0m\n\u001b[0;31mSyntaxError\u001b[0m\u001b[0;31m:\u001b[0m unexpected EOF while parsing\n"
     ]
    }
   ],
   "source": [
    "for row in data.iterrows():\n",
    "    mydict = { prop:func(row[1]) for prop, func in parser.items()}\n",
    "    with open(mydict['name'], 'w') as f:\n",
    "        #f.write(base_string.format(**mydict))"
   ]
  },
  {
   "cell_type": "code",
   "execution_count": 267,
   "metadata": {},
   "outputs": [],
   "source": []
  },
  {
   "cell_type": "code",
   "execution_count": 268,
   "metadata": {},
   "outputs": [
    {
     "data": {
      "text/plain": [
       "{'host': 'Caltech',\n",
       " 'title': 'Total curvature and the isoperimetric inequality',\n",
       " 'start_time': '2020-04-07T16:00:00-07:00',\n",
       " 'end_time': '2020-04-07T16:50:00-07:00',\n",
       " 'start_time_as_date': datetime.datetime(2020, 4, 7, 16, 0, tzinfo=datetime.timezone(datetime.timedelta(-1, 61200))),\n",
       " 'end_time_as_date': datetime.datetime(2020, 4, 7, 16, 50, tzinfo=datetime.timezone(datetime.timedelta(-1, 61200))),\n",
       " 'speaker': 'Mohammad Ghomi',\n",
       " 'speaker_inst': 'Georgia Tech',\n",
       " 'timezone': '-0700',\n",
       " 'talk_site': 'https://secure.math.ucla.edu/seminars/display.php?&id=834000',\n",
       " 'categories': '\"DG\"',\n",
       " 'abstract': 'The classical isoperimetric inequality states that in Euclidean space spheres provide enclosures of least perimeter for any given volume. According to the Cartan-Hadamard conjecture, this inequality may be generalized to spaces of nonpositive curvature. In this talk we discuss an approach to proving this conjecture via a comparison formula for the total curvature of level sets of functions on nonpositively curved manifolds. This is joint work with Joel Spruck.',\n",
       " 'name': 'talk/Caltech_Mohammad_Ghomi_7042020.md'}"
      ]
     },
     "execution_count": 268,
     "metadata": {},
     "output_type": "execute_result"
    }
   ],
   "source": [
    "x"
   ]
  },
  {
   "cell_type": "code",
   "execution_count": 225,
   "metadata": {},
   "outputs": [],
   "source": []
  },
  {
   "cell_type": "code",
   "execution_count": 245,
   "metadata": {},
   "outputs": [
    {
     "data": {
      "text/plain": [
       "'\"DG\"'"
      ]
     },
     "execution_count": 245,
     "metadata": {},
     "output_type": "execute_result"
    }
   ],
   "source": [
    "x['categories']"
   ]
  },
  {
   "cell_type": "code",
   "execution_count": 298,
   "metadata": {},
   "outputs": [],
   "source": [
    "cal_parser = {\n",
    "    'uid': lambda x:  x['name'][5:-3],\n",
    "    'name': lambda x:  x['title'] + ' - ' + x['speaker'],\n",
    "    'description': lambda x:  ('Host: {host} \\n Speaker: {speaker} ({speaker_inst}) \\n\\n --- \\n{abstract}'+\\\n",
    "                               '\\n\\n---\\n Event generated by jaume.dedios.cat/math-seminars').format(**x) ,\n",
    "    'dtstart': lambda x:  x['start_time_as_date'],\n",
    "    'dtend': lambda x:  x['end_time_as_date'],\n",
    "    'categories': lambda x:  ['math.'+y[1:-1] for y in '\"AP\",\"DG\"'.split(',')],\n",
    "    'location': lambda x: x['host'],\n",
    "    'url': lambda x: x['talk_site'],\n",
    "    'summary': lambda x: '{title} -- {speaker} ({speaker_inst})'.format(**x),\n",
    "}"
   ]
  },
  {
   "cell_type": "code",
   "execution_count": 297,
   "metadata": {},
   "outputs": [],
   "source": [
    "cal = Calendar()\n",
    "cal['dtstart'] = '20050404T080000'\n",
    "cal.add('summary', 'Open Math Seminars Calendar')\n",
    "cal.add('prodid',\"jaume.dedios.cat/math-seminars\")\n",
    "cal.add('dtstamp',dt.datetime.now())\n",
    "cal.add('version','2.0')\n",
    "subcomponents = []\n",
    "for row in data.iterrows():\n",
    "    x = { prop:func(row[1]) for prop, func in parser.items()}\n",
    "    event = Event()\n",
    "    for prop, func in cal_parser.items():\n",
    "        event.add(prop, func(x))\n",
    "    subcomponents += [event]\n",
    "cal.subcomponents = subcomponents\n",
    "with open('calendar.ical','wb') as f:\n",
    "    f.write(cal.to_ical())"
   ]
  },
  {
   "cell_type": "code",
   "execution_count": 230,
   "metadata": {},
   "outputs": [
    {
     "data": {
      "text/plain": [
       "'20200407T230000Z'"
      ]
     },
     "execution_count": 230,
     "metadata": {},
     "output_type": "execute_result"
    }
   ],
   "source": [
    "'uid': lambda x:x['name'][5:-3]\n",
    "lambda x: dt.datetime.strftime(\n",
    "    x['start_time_as_date']\\\n",
    "    - dt.timedelta(hours = int(x['timezone'][:3]), \n",
    "                 minutes = int(x['timezone'][0]+x['timezone'][3:])),\n",
    "    \"%Y%m%dT%H%M00Z\")"
   ]
  },
  {
   "cell_type": "code",
   "execution_count": 153,
   "metadata": {},
   "outputs": [],
   "source": [
    "def clean_text(ot):\n",
    "    base = list(map(lambda x: x.split('='), ot.split('+++')[1].lstrip().rstrip().split('\\n')))\n",
    "    clean = { x[0].lstrip().rstrip(): '='.join(x[1:]).lstrip().rstrip()[1:-1] for x in base}\n",
    "    clean['abstract'] = ot.split('+++')[-1].lstrip().rstrip()\n",
    "    clean['categories'] = ', '.join(map(lambda x: 'Math.'+x, clean['categories'].replace('\"','').split(',')))\n",
    "    return clean"
   ]
  },
  {
   "cell_type": "code",
   "execution_count": 166,
   "metadata": {},
   "outputs": [],
   "source": [
    "inverse_parser = {\n",
    "    'Timestamp': lambda x:'-1',\n",
    "    'Email': lambda x:'jaumededios@gmail.com',\n",
    "    'Title': lambda x: x['title'],\n",
    "    'Speaker' : lambda x: x['speaker'],\n",
    "    'Speaker_inst': lambda x: x['speaker_institution'],\n",
    "    'Host': lambda x: x['host'],\n",
    "    'Abstract': lambda x: x['abstract'],\n",
    "    'Site': lambda x: x['talk_site'],\n",
    "    'arXiv': lambda x : x['categories'],\n",
    "    'Date': lambda x: x['date'][8:10]+'/'+x['date'][5:7]+'/'+x['date'][:4],\n",
    "    'Start_Time' : lambda x : x['date'][11:19],\n",
    "    'End_Time' : lambda x : x['expiryDate'][11:19],\n",
    "    'Timezone': lambda x : 'UTC '+x['date'][-6:],\n",
    "    'In_Charge': lambda x:  False,\n",
    "}"
   ]
  },
  {
   "cell_type": "code",
   "execution_count": 175,
   "metadata": {},
   "outputs": [
    {
     "name": "stdout",
     "output_type": "stream",
     "text": [
      "UCLAShimizu.md\n",
      "BerkeleyPawloski.md\n",
      "PrincetonLi.md\n",
      "SeymourStanford.md\n",
      "CaltechGhomi.md\n",
      "VANTAGEFite.md\n",
      "VANTAGEZywina.md\n",
      "UCLAHunyh.md\n",
      "ColumbiaBray.md\n",
      "VANTAGESutherland.md\n",
      "VANTAGEBucur.md\n",
      "BerkeleyYing.md\n",
      "OSUIncerti.md\n",
      "NCCChudnovsky.md\n",
      "CaltechTAO.md\n",
      "PrincetonBeryland.md\n",
      "UCLA_Irina_15042020.md\n",
      "SIUDobrinen.md\n",
      "ColumbiaMihatsch.md\n"
     ]
    }
   ],
   "source": [
    "old_files = []\n",
    "for filename in os.listdir('old_talk/'):\n",
    "    if filename[0]!='.':\n",
    "        with open('old_talk/'+filename) as f:\n",
    "            ot = f.read()\n",
    "        print(filename)\n",
    "        ct = clean_text(ot)\n",
    "        old_files.append([inverse_parser[prop](ct) for prop in data.columns])\n",
    "old_talk_data = pd.DataFrame(old_files, columns=data.columns)\n",
    "old_talk_data.to_csv('old_talk_data.csv')"
   ]
  },
  {
   "cell_type": "code",
   "execution_count": 243,
   "metadata": {},
   "outputs": [
    {
     "name": "stdout",
     "output_type": "stream",
     "text": [
      "Help on class Event in module icalendar.cal:\n",
      "\n",
      "class Event(Component)\n",
      " |  Component is the base object for calendar, Event and the other\n",
      " |  components defined in RFC 2445. normally you will not use this class\n",
      " |  directy, but rather one of the subclasses.\n",
      " |  \n",
      " |  Method resolution order:\n",
      " |      Event\n",
      " |      Component\n",
      " |      icalendar.caselessdict.CaselessDict\n",
      " |      collections.OrderedDict\n",
      " |      builtins.dict\n",
      " |      builtins.object\n",
      " |  \n",
      " |  Data and other attributes defined here:\n",
      " |  \n",
      " |  canonical_order = ('SUMMARY', 'DTSTART', 'DTEND', 'DURATION', 'DTSTAMP...\n",
      " |  \n",
      " |  exclusive = ('DTEND', 'DURATION')\n",
      " |  \n",
      " |  ignore_exceptions = True\n",
      " |  \n",
      " |  multiple = ('ATTACH', 'ATTENDEE', 'COMMENT', 'CONTACT', 'EXDATE', 'RST...\n",
      " |  \n",
      " |  name = 'VEVENT'\n",
      " |  \n",
      " |  required = ('UID', 'DTSTAMP')\n",
      " |  \n",
      " |  singletons = ('CLASS', 'CREATED', 'DESCRIPTION', 'DTSTART', 'GEO', 'LA...\n",
      " |  \n",
      " |  ----------------------------------------------------------------------\n",
      " |  Methods inherited from Component:\n",
      " |  \n",
      " |  __bool__(self)\n",
      " |      Returns True, CaselessDict would return False if it had no items.\n",
      " |  \n",
      " |  __init__(self, *args, **kwargs)\n",
      " |      Set keys to upper for initial dict.\n",
      " |  \n",
      " |  __nonzero__ = __bool__(self)\n",
      " |      Returns True, CaselessDict would return False if it had no items.\n",
      " |  \n",
      " |  __repr__(self)\n",
      " |      String representation of class with all of it's subcomponents.\n",
      " |  \n",
      " |  add(self, name, value, parameters=None, encode=1)\n",
      " |      Add a property.\n",
      " |      \n",
      " |      :param name: Name of the property.\n",
      " |      :type name: string\n",
      " |      \n",
      " |      :param value: Value of the property. Either of a basic Python type of\n",
      " |                    any of the icalendar's own property types.\n",
      " |      :type value: Python native type or icalendar property type.\n",
      " |      \n",
      " |      :param parameters: Property parameter dictionary for the value. Only\n",
      " |                         available, if encode is set to True.\n",
      " |      :type parameters: Dictionary\n",
      " |      \n",
      " |      :param encode: True, if the value should be encoded to one of\n",
      " |                     icalendar's own property types (Fallback is \"vText\")\n",
      " |                     or False, if not.\n",
      " |      :type encode: Boolean\n",
      " |      \n",
      " |      :returns: None\n",
      " |  \n",
      " |  add_component(self, component)\n",
      " |      Add a subcomponent to this component.\n",
      " |  \n",
      " |  content_line(self, name, value, sorted=True)\n",
      " |      Returns property as content line.\n",
      " |  \n",
      " |  content_lines(self, sorted=True)\n",
      " |      Converts the Component and subcomponents into content lines.\n",
      " |  \n",
      " |  decoded(self, name, default=[])\n",
      " |      Returns decoded value of property.\n",
      " |  \n",
      " |  get_inline(self, name, decode=1)\n",
      " |      Returns a list of values (split on comma).\n",
      " |  \n",
      " |  is_empty(self)\n",
      " |      Returns True if Component has no items or subcomponents, else False.\n",
      " |  \n",
      " |  property_items(self, recursive=True, sorted=True)\n",
      " |      Returns properties in this component and subcomponents as:\n",
      " |      [(name, value), ...]\n",
      " |  \n",
      " |  set_inline(self, name, values, encode=1)\n",
      " |      Converts a list of values into comma seperated string and sets value\n",
      " |      to that.\n",
      " |  \n",
      " |  to_ical(self, sorted=True)\n",
      " |      :param sorted: Whether parameters and properties should be\n",
      " |                     lexicographically sorted.\n",
      " |  \n",
      " |  walk(self, name=None)\n",
      " |      Recursively traverses component and subcomponents. Returns sequence\n",
      " |      of same. If name is passed, only components with name will be returned.\n",
      " |  \n",
      " |  ----------------------------------------------------------------------\n",
      " |  Class methods inherited from Component:\n",
      " |  \n",
      " |  from_ical(st, multiple=False) from builtins.type\n",
      " |      Populates the component recursively from a string.\n",
      " |  \n",
      " |  ----------------------------------------------------------------------\n",
      " |  Data descriptors inherited from Component:\n",
      " |  \n",
      " |  is_broken\n",
      " |  \n",
      " |  ----------------------------------------------------------------------\n",
      " |  Data and other attributes inherited from Component:\n",
      " |  \n",
      " |  inclusive = ()\n",
      " |  \n",
      " |  ----------------------------------------------------------------------\n",
      " |  Methods inherited from icalendar.caselessdict.CaselessDict:\n",
      " |  \n",
      " |  __contains__(self, key)\n",
      " |      True if D has a key k, else False.\n",
      " |  \n",
      " |  __delitem__(self, key)\n",
      " |      Delete self[key].\n",
      " |  \n",
      " |  __eq__(self, other)\n",
      " |      Return self==value.\n",
      " |  \n",
      " |  __getitem__(self, key)\n",
      " |      x.__getitem__(y) <==> x[y]\n",
      " |  \n",
      " |  __setitem__(self, key, value)\n",
      " |      Set self[key] to value.\n",
      " |  \n",
      " |  copy(self)\n",
      " |      od.copy() -> a shallow copy of od\n",
      " |  \n",
      " |  get(self, key, default=None)\n",
      " |      D.get(k[,d]) -> D[k] if k in D, else d.  d defaults to None.\n",
      " |  \n",
      " |  has_key(self, key)\n",
      " |  \n",
      " |  pop(self, key, default=None)\n",
      " |      od.pop(k[,d]) -> v, remove specified key and return the corresponding\n",
      " |      value.  If key is not found, d is returned if given, otherwise KeyError\n",
      " |      is raised.\n",
      " |  \n",
      " |  popitem(self)\n",
      " |      Remove and return a (key, value) pair from the dictionary.\n",
      " |      \n",
      " |      Pairs are returned in LIFO order if last is true or FIFO order if false.\n",
      " |  \n",
      " |  setdefault(self, key, value=None)\n",
      " |      od.setdefault(k[,d]) -> od.get(k,d), also set od[k]=d if k not in od\n",
      " |  \n",
      " |  sorted_items(self)\n",
      " |      Sorts items according to the canonical_order for the derived class.\n",
      " |      Items not specified in canonical_order will appear at the end.\n",
      " |  \n",
      " |  sorted_keys(self)\n",
      " |      Sorts keys according to the canonical_order for the derived class.\n",
      " |      Keys not specified in canonical_order will appear at the end.\n",
      " |  \n",
      " |  update(self, *args, **kwargs)\n",
      " |      D.update([E, ]**F) -> None.  Update D from dict/iterable E and F.\n",
      " |      If E is present and has a .keys() method, then does:  for k in E: D[k] = E[k]\n",
      " |      If E is present and lacks a .keys() method, then does:  for k, v in E: D[k] = v\n",
      " |      In either case, this is followed by: for k in F:  D[k] = F[k]\n",
      " |  \n",
      " |  ----------------------------------------------------------------------\n",
      " |  Data and other attributes inherited from icalendar.caselessdict.CaselessDict:\n",
      " |  \n",
      " |  __hash__ = None\n",
      " |  \n",
      " |  ----------------------------------------------------------------------\n",
      " |  Methods inherited from collections.OrderedDict:\n",
      " |  \n",
      " |  __ge__(self, value, /)\n",
      " |      Return self>=value.\n",
      " |  \n",
      " |  __gt__(self, value, /)\n",
      " |      Return self>value.\n",
      " |  \n",
      " |  __iter__(self, /)\n",
      " |      Implement iter(self).\n",
      " |  \n",
      " |  __le__(self, value, /)\n",
      " |      Return self<=value.\n",
      " |  \n",
      " |  __lt__(self, value, /)\n",
      " |      Return self<value.\n",
      " |  \n",
      " |  __ne__(self, value, /)\n",
      " |      Return self!=value.\n",
      " |  \n",
      " |  __new__(*args, **kwargs) from builtins.type\n",
      " |      Create and return a new object.  See help(type) for accurate signature.\n",
      " |  \n",
      " |  __reduce__(...)\n",
      " |      Return state information for pickling\n",
      " |  \n",
      " |  __reversed__(...)\n",
      " |      od.__reversed__() <==> reversed(od)\n",
      " |  \n",
      " |  __sizeof__(...)\n",
      " |      D.__sizeof__() -> size of D in memory, in bytes\n",
      " |  \n",
      " |  clear(...)\n",
      " |      od.clear() -> None.  Remove all items from od.\n",
      " |  \n",
      " |  fromkeys(...) from builtins.type\n",
      " |      OD.fromkeys(S[, v]) -> New ordered dictionary with keys from S.\n",
      " |      If not specified, the value defaults to None.\n",
      " |  \n",
      " |  items(...)\n",
      " |      D.items() -> a set-like object providing a view on D's items\n",
      " |  \n",
      " |  keys(...)\n",
      " |      D.keys() -> a set-like object providing a view on D's keys\n",
      " |  \n",
      " |  move_to_end(...)\n",
      " |      Move an existing element to the end (or beginning if last==False).\n",
      " |      \n",
      " |      Raises KeyError if the element does not exist.\n",
      " |      When last=True, acts like a fast version of self[key]=self.pop(key).\n",
      " |  \n",
      " |  values(...)\n",
      " |      D.values() -> an object providing a view on D's values\n",
      " |  \n",
      " |  ----------------------------------------------------------------------\n",
      " |  Data descriptors inherited from collections.OrderedDict:\n",
      " |  \n",
      " |  __dict__\n",
      " |  \n",
      " |  ----------------------------------------------------------------------\n",
      " |  Methods inherited from builtins.dict:\n",
      " |  \n",
      " |  __getattribute__(self, name, /)\n",
      " |      Return getattr(self, name).\n",
      " |  \n",
      " |  __len__(self, /)\n",
      " |      Return len(self).\n",
      "\n"
     ]
    }
   ],
   "source": [
    "help(Event)"
   ]
  },
  {
   "cell_type": "code",
   "execution_count": 299,
   "metadata": {},
   "outputs": [
    {
     "data": {
      "text/plain": [
       "'../hugo_site/themes/tale-math-seminars/data/math_cat.yaml'"
      ]
     },
     "execution_count": 299,
     "metadata": {},
     "output_type": "execute_result"
    }
   ],
   "source": [
    "'../hugo_site/themes/tale-math-seminars/data/math_cat.yaml'"
   ]
  },
  {
   "cell_type": "code",
   "execution_count": null,
   "metadata": {},
   "outputs": [],
   "source": []
  }
 ],
 "metadata": {
  "kernelspec": {
   "display_name": "Python 3",
   "language": "python",
   "name": "python3"
  },
  "language_info": {
   "codemirror_mode": {
    "name": "ipython",
    "version": 3
   },
   "file_extension": ".py",
   "mimetype": "text/x-python",
   "name": "python",
   "nbconvert_exporter": "python",
   "pygments_lexer": "ipython3",
   "version": "3.6.4"
  }
 },
 "nbformat": 4,
 "nbformat_minor": 2
}
