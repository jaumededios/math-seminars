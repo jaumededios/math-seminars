{
 "cells": [
  {
   "cell_type": "code",
   "execution_count": 204,
   "metadata": {},
   "outputs": [],
   "source": [
    "import pandas as pd\n",
    "import datetime as dt\n",
    "import json\n",
    "import os\n",
    "from icalendar import Calendar, Event\n",
    "\n",
    "def stringtodate(date, time, timezone):\n",
    "    string = date+' '+time+timezone[4:10].replace(':','')\n",
    "    return dt.datetime.strptime(string,\"%d/%m/%Y %H:%M:%S%z\")\n",
    "\n",
    "def formatstring(date, time, timezone):\n",
    "    date = stringtodate(date,time,timezone)\n",
    "    return dt.datetime.strftime(date,\"%Y-%m-%dT%H:%M:%S\"+timezone[4:10])"
   ]
  },
  {
   "cell_type": "code",
   "execution_count": 189,
   "metadata": {},
   "outputs": [],
   "source": [
    "data = pd.read_csv('data.csv')"
   ]
  },
  {
   "cell_type": "code",
   "execution_count": 190,
   "metadata": {},
   "outputs": [],
   "source": [
    "base_string = \\\n",
    "'''+++\n",
    "  host= \"{host}\"\n",
    "  date = \"{start_time}\"\n",
    "  expiryDate = \"{end_time}\"\n",
    "  title = \"{title}\"\n",
    "  speaker = \"{speaker}\"\n",
    "  speaker_institution = \"{speaker_inst}\"\n",
    "  talk_site = \"{talk_site}\"\n",
    "  categories = [{categories}]\n",
    "\n",
    "  publishDate = \"2000-02-07T16:00:00-07:00\"\n",
    "+++\n",
    "\n",
    "{abstract}'''"
   ]
  },
  {
   "cell_type": "code",
   "execution_count": 200,
   "metadata": {},
   "outputs": [],
   "source": [
    "parser = {\n",
    "    'host': lambda x:x['Host'],\n",
    "    'title': lambda x: x['Title'],\n",
    "    'start_time' : lambda x : formatstring(x['Date'],x['Start_Time'], x['Timezone']),\n",
    "    'end_time' : lambda x : formatstring(x['Date'],x['End_Time'], x['Timezone']),\n",
    "    'start_time_as_date': lambda x: stringtodate(x['Date'],x['Start_Time'], x['Timezone']),\n",
    "    'end_time_as_date': lambda x: stringtodate(x['Date'],x['End_Time'], x['Timezone']),\n",
    "    'speaker' : lambda x: x['Speaker'],\n",
    "    'speaker_inst': lambda x: x['Speaker_inst'],\n",
    "    'talk_site': lambda x: x['Site'],\n",
    "    'categories': lambda x : '' if (not isinstance(x['arXiv'],str) or str(x['arXiv']).lstrip().rstrip() =='') \\\n",
    "                                else '\"'+'\",\"'.join(x['arXiv'].upper().replace(' ','').replace('MATH.','').split(','))+'\"',\n",
    "    'abstract': lambda x: x['Abstract'],\n",
    "    'name': lambda x: 'talk/'+(x['Host']+'_'+x['Speaker'].replace(' ','_')+'_'+x['Date']).replace('/','')+'.md'\n",
    "}"
   ]
  },
  {
   "cell_type": "code",
   "execution_count": 108,
   "metadata": {},
   "outputs": [],
   "source": [
    "for row in data.iterrows():\n",
    "    mydict = { prop:func(row[1]) for prop, func in parser.items()}\n",
    "    with open(mydict['name'], 'w') as f:\n",
    "        #f.write(base_string.format(**mydict))"
   ]
  },
  {
   "cell_type": "code",
   "execution_count": 201,
   "metadata": {},
   "outputs": [],
   "source": [
    "for row in data.iterrows():\n",
    "    mydict = { prop:func(row[1]) for prop, func in parser.items()}"
   ]
  },
  {
   "cell_type": "code",
   "execution_count": 202,
   "metadata": {},
   "outputs": [
    {
     "data": {
      "text/plain": [
       "{'host': 'Caltech',\n",
       " 'title': 'Total curvature and the isoperimetric inequality',\n",
       " 'start_time': '2020-04-07T16:00:00-07:00',\n",
       " 'end_time': '2020-04-07T16:50:00-07:00',\n",
       " 'start_time_as_date': datetime.datetime(2020, 4, 7, 16, 0, tzinfo=datetime.timezone(datetime.timedelta(-1, 61200))),\n",
       " 'end_time_as_date': datetime.datetime(2020, 4, 7, 16, 50, tzinfo=datetime.timezone(datetime.timedelta(-1, 61200))),\n",
       " 'speaker': 'Mohammad Ghomi',\n",
       " 'speaker_inst': 'Georgia Tech',\n",
       " 'talk_site': 'https://secure.math.ucla.edu/seminars/display.php?&id=834000',\n",
       " 'categories': '\"DG\"',\n",
       " 'abstract': 'The classical isoperimetric inequality states that in Euclidean space spheres provide enclosures of least perimeter for any given volume. According to the Cartan-Hadamard conjecture, this inequality may be generalized to spaces of nonpositive curvature. In this talk we discuss an approach to proving this conjecture via a comparison formula for the total curvature of level sets of functions on nonpositively curved manifolds. This is joint work with Joel Spruck.',\n",
       " 'name': 'talk/Caltech_Mohammad_Ghomi_7042020.md'}"
      ]
     },
     "execution_count": 202,
     "metadata": {},
     "output_type": "execute_result"
    }
   ],
   "source": [
    "mydict"
   ]
  },
  {
   "cell_type": "code",
   "execution_count": 207,
   "metadata": {},
   "outputs": [],
   "source": [
    "cal = Calendar()\n",
    "cal['dtstart'] = '20050404T080000'\n",
    "cal['summary'] = 'Open Math Seminars Calendar'"
   ]
  },
  {
   "cell_type": "code",
   "execution_count": null,
   "metadata": {},
   "outputs": [],
   "source": []
  },
  {
   "cell_type": "code",
   "execution_count": null,
   "metadata": {},
   "outputs": [],
   "source": []
  },
  {
   "cell_type": "code",
   "execution_count": null,
   "metadata": {},
   "outputs": [],
   "source": []
  },
  {
   "cell_type": "code",
   "execution_count": 153,
   "metadata": {},
   "outputs": [],
   "source": [
    "def clean_text(ot):\n",
    "    base = list(map(lambda x: x.split('='), ot.split('+++')[1].lstrip().rstrip().split('\\n')))\n",
    "    clean = { x[0].lstrip().rstrip(): '='.join(x[1:]).lstrip().rstrip()[1:-1] for x in base}\n",
    "    clean['abstract'] = ot.split('+++')[-1].lstrip().rstrip()\n",
    "    clean['categories'] = ', '.join(map(lambda x: 'Math.'+x, clean['categories'].replace('\"','').split(',')))\n",
    "    return clean"
   ]
  },
  {
   "cell_type": "code",
   "execution_count": 166,
   "metadata": {},
   "outputs": [],
   "source": [
    "inverse_parser = {\n",
    "    'Timestamp': lambda x:'-1',\n",
    "    'Email': lambda x:'jaumededios@gmail.com',\n",
    "    'Title': lambda x: x['title'],\n",
    "    'Speaker' : lambda x: x['speaker'],\n",
    "    'Speaker_inst': lambda x: x['speaker_institution'],\n",
    "    'Host': lambda x: x['host'],\n",
    "    'Abstract': lambda x: x['abstract'],\n",
    "    'Site': lambda x: x['talk_site'],\n",
    "    'arXiv': lambda x : x['categories'],\n",
    "    'Date': lambda x: x['date'][8:10]+'/'+x['date'][5:7]+'/'+x['date'][:4],\n",
    "    'Start_Time' : lambda x : x['date'][11:19],\n",
    "    'End_Time' : lambda x : x['expiryDate'][11:19],\n",
    "    'Timezone': lambda x : 'UTC '+x['date'][-6:],\n",
    "    'In_Charge': lambda x:  False,\n",
    "}"
   ]
  },
  {
   "cell_type": "code",
   "execution_count": 175,
   "metadata": {},
   "outputs": [
    {
     "name": "stdout",
     "output_type": "stream",
     "text": [
      "UCLAShimizu.md\n",
      "BerkeleyPawloski.md\n",
      "PrincetonLi.md\n",
      "SeymourStanford.md\n",
      "CaltechGhomi.md\n",
      "VANTAGEFite.md\n",
      "VANTAGEZywina.md\n",
      "UCLAHunyh.md\n",
      "ColumbiaBray.md\n",
      "VANTAGESutherland.md\n",
      "VANTAGEBucur.md\n",
      "BerkeleyYing.md\n",
      "OSUIncerti.md\n",
      "NCCChudnovsky.md\n",
      "CaltechTAO.md\n",
      "PrincetonBeryland.md\n",
      "UCLA_Irina_15042020.md\n",
      "SIUDobrinen.md\n",
      "ColumbiaMihatsch.md\n"
     ]
    }
   ],
   "source": [
    "old_files = []\n",
    "for filename in os.listdir('old_talk/'):\n",
    "    if filename[0]!='.':\n",
    "        with open('old_talk/'+filename) as f:\n",
    "            ot = f.read()\n",
    "        print(filename)\n",
    "        ct = clean_text(ot)\n",
    "        old_files.append([inverse_parser[prop](ct) for prop in data.columns])\n",
    "old_talk_data = pd.DataFrame(old_files, columns=data.columns)\n",
    "old_talk_data.to_csv('old_talk_data.csv')"
   ]
  }
 ],
 "metadata": {
  "kernelspec": {
   "display_name": "Python 3",
   "language": "python",
   "name": "python3"
  },
  "language_info": {
   "codemirror_mode": {
    "name": "ipython",
    "version": 3
   },
   "file_extension": ".py",
   "mimetype": "text/x-python",
   "name": "python",
   "nbconvert_exporter": "python",
   "pygments_lexer": "ipython3",
   "version": "3.6.4"
  }
 },
 "nbformat": 4,
 "nbformat_minor": 2
}
