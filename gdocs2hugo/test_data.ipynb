{
 "cells": [
  {
   "cell_type": "code",
   "execution_count": 169,
   "metadata": {},
   "outputs": [],
   "source": [
    "import pandas as pd\n",
    "import datetime as dt\n",
    "import json\n",
    "import os\n",
    "\n",
    "def stringtodate(date, time, timezone):\n",
    "    string = date+' '+time+timezone[4:10].replace(':','')\n",
    "    return dt.datetime.strptime(string,\"%d/%m/%Y %H:%M:%S%z\")\n",
    "\n",
    "def formatstring(date, time, timezone):\n",
    "    date = stringtodate(date,time,timezone)\n",
    "    return dt.datetime.strftime(date,\"%Y-%m-%dT%H:%M:%S\"+timezone[4:10])"
   ]
  },
  {
   "cell_type": "code",
   "execution_count": 4,
   "metadata": {},
   "outputs": [],
   "source": [
    "data = pd.read_csv('data.csv')"
   ]
  },
  {
   "cell_type": "code",
   "execution_count": 3,
   "metadata": {},
   "outputs": [],
   "source": [
    "base_string = \\\n",
    "'''+++\n",
    "  host= \"{host}\"\n",
    "  date = \"{start_time}\"\n",
    "  expiryDate = \"{end_time}\"\n",
    "  title = \"{title}\"\n",
    "  speaker = \"{speaker}\"\n",
    "  speaker_institution = \"{speaker_inst}\"\n",
    "  talk_site = \"{talk_site}\"\n",
    "  categories = [{categories}]\n",
    "\n",
    "  publishDate = \"2000-02-07T16:00:00-07:00\"\n",
    "+++\n",
    "\n",
    "{abstract}'''"
   ]
  },
  {
   "cell_type": "code",
   "execution_count": 21,
   "metadata": {},
   "outputs": [],
   "source": [
    "\n",
    "    row = row[1].to_dict()"
   ]
  },
  {
   "cell_type": "code",
   "execution_count": 104,
   "metadata": {},
   "outputs": [],
   "source": [
    "parser = {\n",
    "    'host': lambda x:x['Host'],\n",
    "    'title': lambda x: x['Title'],\n",
    "    'start_time' : lambda x : formatstring(x['Date'],x['Start_Time'], x['Timezone']),\n",
    "    'end_time' : lambda x : formatstring(x['Date'],x['End_Time'], x['Timezone']),\n",
    "    'speaker' : lambda x: x['Speaker'],\n",
    "    'speaker_inst': lambda x: x['Speaker_inst'],\n",
    "    'talk_site': lambda x: x['Site'],\n",
    "    'categories': lambda x : '' if x['arXiv']=='' else '\"'+'\",\"'.join(x['arXiv'].upper().replace(' ','').replace('MATH.','').split(','))+'\"',\n",
    "    'abstract': lambda x: x['Abstract'],\n",
    "    'name': lambda x: x['Host']+'_'+x['Speaker'].replace(' ','_')+'_'+x['Date'].replace('/','')+'.md'\n",
    "}"
   ]
  },
  {
   "cell_type": "code",
   "execution_count": 105,
   "metadata": {},
   "outputs": [
    {
     "data": {
      "text/plain": [
       "'math.NT, math.DT, math.BD'"
      ]
     },
     "execution_count": 105,
     "metadata": {},
     "output_type": "execute_result"
    }
   ],
   "source": [
    "'math.NT, math.DT, math.BD'"
   ]
  },
  {
   "cell_type": "code",
   "execution_count": 108,
   "metadata": {},
   "outputs": [],
   "source": [
    "for row in data.iterrows():\n",
    "    mydict = { prop:func(row[1]) for prop, func in parser.items()}\n",
    "    with open(mydict['name'], 'w') as f:\n",
    "        f.write(base_string.format(**mydict))"
   ]
  },
  {
   "cell_type": "code",
   "execution_count": 96,
   "metadata": {},
   "outputs": [
    {
     "data": {
      "text/plain": [
       "'\\n+++\\n  host= \"UCLA\"\\n  date = \"2020-04-15T09:00:00-07:00\"\\n  expiryDate = \"2020-04-15T10:00:00-07:00\"\\n  title = \"The life of the pandas\"\\n  speaker = \"Irina\"\\n  speaker_institution = \"NYU CDS\"\\n  talk_site = \"https://www.worldwildlife.org/\"\\n  categories = [\"NT\",\"GR\"]\\n\\n  publishDate = \"2000-02-07T16:00:00-07:00\"\\n+++\\n\\nPandas are beautiful $a^b$ we are testing latex.\\n'"
      ]
     },
     "execution_count": 96,
     "metadata": {},
     "output_type": "execute_result"
    }
   ],
   "source": [
    "base_string.format(**mydict)"
   ]
  },
  {
   "cell_type": "code",
   "execution_count": 91,
   "metadata": {},
   "outputs": [
    {
     "data": {
      "text/plain": [
       "dict_keys(['host', 'title', 'start_time', 'end_time', 'speaker', 'speaker_inst', 'talk_site', 'categories'])"
      ]
     },
     "execution_count": 91,
     "metadata": {},
     "output_type": "execute_result"
    }
   ],
   "source": [
    "mydict.keys()"
   ]
  },
  {
   "cell_type": "code",
   "execution_count": 64,
   "metadata": {},
   "outputs": [
    {
     "data": {
      "text/plain": [
       "dict_items([('host', <function <lambda> at 0x10f6cca60>), ('title', <function <lambda> at 0x10f6cc730>), ('start_time', <function <lambda> at 0x10f6cc268>), ('end_time', <function <lambda> at 0x10f6ccbf8>), ('speaker', <function <lambda> at 0x10f6ccc80>), ('speaker_inst', <function <lambda> at 0x10f6ccd08>), ('talk_site', <function <lambda> at 0x10f6ccd90>), ('categories', <function <lambda> at 0x10f6cce18>)])"
      ]
     },
     "execution_count": 64,
     "metadata": {},
     "output_type": "execute_result"
    }
   ],
   "source": [
    "parser.items()"
   ]
  },
  {
   "cell_type": "code",
   "execution_count": 97,
   "metadata": {},
   "outputs": [
    {
     "data": {
      "text/html": [
       "<div>\n",
       "<style scoped>\n",
       "    .dataframe tbody tr th:only-of-type {\n",
       "        vertical-align: middle;\n",
       "    }\n",
       "\n",
       "    .dataframe tbody tr th {\n",
       "        vertical-align: top;\n",
       "    }\n",
       "\n",
       "    .dataframe thead th {\n",
       "        text-align: right;\n",
       "    }\n",
       "</style>\n",
       "<table border=\"1\" class=\"dataframe\">\n",
       "  <thead>\n",
       "    <tr style=\"text-align: right;\">\n",
       "      <th></th>\n",
       "      <th>Timestamp</th>\n",
       "      <th>Email</th>\n",
       "      <th>Title</th>\n",
       "      <th>Speaker</th>\n",
       "      <th>Speaker_inst</th>\n",
       "      <th>Abstract</th>\n",
       "      <th>Host</th>\n",
       "      <th>Site</th>\n",
       "      <th>In_Charge</th>\n",
       "      <th>arXiv</th>\n",
       "      <th>Date</th>\n",
       "      <th>Start_Time</th>\n",
       "      <th>End_Time</th>\n",
       "      <th>Timezone</th>\n",
       "    </tr>\n",
       "  </thead>\n",
       "  <tbody>\n",
       "    <tr>\n",
       "      <th>0</th>\n",
       "      <td>6/04/2020 19:55:10</td>\n",
       "      <td>jaumededios@gmail.com</td>\n",
       "      <td>The life of the pandas</td>\n",
       "      <td>Irina</td>\n",
       "      <td>NYU CDS</td>\n",
       "      <td>Pandas are beautiful $a^b$ we are testing latex.</td>\n",
       "      <td>UCLA</td>\n",
       "      <td>https://www.worldwildlife.org/</td>\n",
       "      <td>Yes</td>\n",
       "      <td>math.NT, math.GR</td>\n",
       "      <td>15/04/2020</td>\n",
       "      <td>9:00:00</td>\n",
       "      <td>10:00:00</td>\n",
       "      <td>UTC -07:00 (Los Angeles, PDT)</td>\n",
       "    </tr>\n",
       "  </tbody>\n",
       "</table>\n",
       "</div>"
      ],
      "text/plain": [
       "            Timestamp                  Email                   Title Speaker  \\\n",
       "0  6/04/2020 19:55:10  jaumededios@gmail.com  The life of the pandas   Irina   \n",
       "\n",
       "  Speaker_inst                                          Abstract  Host  \\\n",
       "0      NYU CDS  Pandas are beautiful $a^b$ we are testing latex.  UCLA   \n",
       "\n",
       "                             Site In_Charge             arXiv        Date  \\\n",
       "0  https://www.worldwildlife.org/       Yes  math.NT, math.GR  15/04/2020   \n",
       "\n",
       "  Start_Time  End_Time                       Timezone  \n",
       "0    9:00:00  10:00:00  UTC -07:00 (Los Angeles, PDT)  "
      ]
     },
     "execution_count": 97,
     "metadata": {},
     "output_type": "execute_result"
    }
   ],
   "source": [
    "data"
   ]
  },
  {
   "cell_type": "code",
   "execution_count": 109,
   "metadata": {},
   "outputs": [],
   "source": [
    "with open('old_talk/BerkeleyPawloski.md') as f:\n",
    "    ot = f.read()"
   ]
  },
  {
   "cell_type": "code",
   "execution_count": 112,
   "metadata": {},
   "outputs": [
    {
     "data": {
      "text/plain": [
       "'Huang, McKinnon, and Satriano conjectured that if a real vector $(v_1,...,v_n)$ has distinct coordinates and $n\\\\ge3$, then a hyperplane through the origin other than $x_1+...+x_n=0$ contains at most $2(n−2)!\\\\lfloor n/2\\\\rfloor$ of the vectors obtained by permuting the coordinates of $v$. I will discuss a proof of this conjecture.'"
      ]
     },
     "execution_count": 112,
     "metadata": {},
     "output_type": "execute_result"
    }
   ],
   "source": [
    "ot.split('+++')[-1].lstrip()"
   ]
  },
  {
   "cell_type": "code",
   "execution_count": null,
   "metadata": {},
   "outputs": [],
   "source": [
    "inverse_parser = {\n",
    "    'host': lambda x:x['Host'],\n",
    "    'title': lambda x: x['Title'],\n",
    "    'start_time' : lambda x : formatstring(x['Date'],x['Start_Time'], x['Timezone']),\n",
    "    'end_time' : lambda x : formatstring(x['Date'],x['End_Time'], x['Timezone']),\n",
    "    'speaker' : lambda x: x['Speaker'],\n",
    "    'speaker_inst': lambda x: x['Speaker_inst'],\n",
    "    'talk_site': lambda x: x['Site'],\n",
    "    'categories': lambda x : '' if x['arXiv']=='' else '\"'+'\",\"'.join(x['arXiv'].upper().replace(' ','').replace('MATH.','').split(','))+'\"',\n",
    "    'abstract': lambda x: x['Abstract'],\n",
    "    'name': lambda x: x['Host']+'_'+x['Speaker'].replace(' ','_')+'_'+x['Date'].replace('/','')+'.md'\n",
    "}"
   ]
  },
  {
   "cell_type": "code",
   "execution_count": 153,
   "metadata": {},
   "outputs": [],
   "source": [
    "def clean_text(ot):\n",
    "    base = list(map(lambda x: x.split('='), ot.split('+++')[1].lstrip().rstrip().split('\\n')))\n",
    "    clean = { x[0].lstrip().rstrip(): '='.join(x[1:]).lstrip().rstrip()[1:-1] for x in base}\n",
    "    clean['abstract'] = ot.split('+++')[-1].lstrip().rstrip()\n",
    "    clean['categories'] = ', '.join(map(lambda x: 'Math.'+x, clean['categories'].replace('\"','').split(',')))\n",
    "    return clean"
   ]
  },
  {
   "cell_type": "code",
   "execution_count": 154,
   "metadata": {},
   "outputs": [],
   "source": [
    "ct = clean_text(ot)"
   ]
  },
  {
   "cell_type": "code",
   "execution_count": 166,
   "metadata": {},
   "outputs": [],
   "source": [
    "inverse_parser = {\n",
    "    'Timestamp': lambda x:'-1',\n",
    "    'Email': lambda x:'jaumededios@gmail.com',\n",
    "    'Title': lambda x: x['title'],\n",
    "    'Speaker' : lambda x: x['speaker'],\n",
    "    'Speaker_inst': lambda x: x['speaker_institution'],\n",
    "    'Host': lambda x: x['host'],\n",
    "    'Abstract': lambda x: x['abstract'],\n",
    "    'Site': lambda x: x['talk_site'],\n",
    "    'arXiv': lambda x : x['categories'],\n",
    "    'Date': lambda x: x['date'][8:10]+'/'+x['date'][5:7]+'/'+x['date'][:4],\n",
    "    'Start_Time' : lambda x : x['date'][11:19],\n",
    "    'End_Time' : lambda x : x['expiryDate'][11:19],\n",
    "    'Timezone': lambda x : 'UTC '+x['date'][-6:],\n",
    "    'In_Charge': lambda x:  False,\n",
    "}"
   ]
  },
  {
   "cell_type": "code",
   "execution_count": 167,
   "metadata": {},
   "outputs": [
    {
     "data": {
      "text/plain": [
       "['-1',\n",
       " 'jaumededios@gmail.com',\n",
       " 'The fraction of an Sn-orbit on a hyperplane',\n",
       " 'Brendan Pawlowski',\n",
       " 'USC',\n",
       " 'Huang, McKinnon, and Satriano conjectured that if a real vector $(v_1,...,v_n)$ has distinct coordinates and $n\\\\ge3$, then a hyperplane through the origin other than $x_1+...+x_n=0$ contains at most $2(n−2)!\\\\lfloor n/2\\\\rfloor$ of the vectors obtained by permuting the coordinates of $v$. I will discuss a proof of this conjecture.',\n",
       " 'UC Berkeley',\n",
       " 'https://events.berkeley.edu/index.php/calendar/sn/math.html?event_ID=132639&date=2020-04-06&filter=Secondary%20Event%20Type&filtersel=',\n",
       " False,\n",
       " 'Math.CO',\n",
       " '06/04/2020',\n",
       " '12:10:00',\n",
       " '13:00:00',\n",
       " 'UTC -07:00']"
      ]
     },
     "execution_count": 167,
     "metadata": {},
     "output_type": "execute_result"
    }
   ],
   "source": [
    "[inverse_parser[prop](ct) for prop in data.columns]"
   ]
  },
  {
   "cell_type": "code",
   "execution_count": 175,
   "metadata": {},
   "outputs": [
    {
     "name": "stdout",
     "output_type": "stream",
     "text": [
      "UCLAShimizu.md\n",
      "BerkeleyPawloski.md\n",
      "PrincetonLi.md\n",
      "SeymourStanford.md\n",
      "CaltechGhomi.md\n",
      "VANTAGEFite.md\n",
      "VANTAGEZywina.md\n",
      "UCLAHunyh.md\n",
      "ColumbiaBray.md\n",
      "VANTAGESutherland.md\n",
      "VANTAGEBucur.md\n",
      "BerkeleyYing.md\n",
      "OSUIncerti.md\n",
      "NCCChudnovsky.md\n",
      "CaltechTAO.md\n",
      "PrincetonBeryland.md\n",
      "UCLA_Irina_15042020.md\n",
      "SIUDobrinen.md\n",
      "ColumbiaMihatsch.md\n"
     ]
    }
   ],
   "source": [
    "old_files = []\n",
    "for filename in os.listdir('old_talk/'):\n",
    "    if filename[0]!='.':\n",
    "        with open('old_talk/'+filename) as f:\n",
    "            ot = f.read()\n",
    "        print(filename)\n",
    "        ct = clean_text(ot)\n",
    "        old_files.append([inverse_parser[prop](ct) for prop in data.columns])"
   ]
  },
  {
   "cell_type": "code",
   "execution_count": 187,
   "metadata": {},
   "outputs": [],
   "source": [
    "old_talk_data = pd.DataFrame(old_files, columns=data.columns)\n",
    "old_talk_data.to_csv('old_talk_data.csv')"
   ]
  },
  {
   "cell_type": "code",
   "execution_count": null,
   "metadata": {},
   "outputs": [],
   "source": []
  }
 ],
 "metadata": {
  "kernelspec": {
   "display_name": "Python 3",
   "language": "python",
   "name": "python3"
  },
  "language_info": {
   "codemirror_mode": {
    "name": "ipython",
    "version": 3
   },
   "file_extension": ".py",
   "mimetype": "text/x-python",
   "name": "python",
   "nbconvert_exporter": "python",
   "pygments_lexer": "ipython3",
   "version": "3.6.4"
  }
 },
 "nbformat": 4,
 "nbformat_minor": 2
}
